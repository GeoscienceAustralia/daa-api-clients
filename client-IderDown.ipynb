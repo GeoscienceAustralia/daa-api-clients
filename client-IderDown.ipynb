{
 "cells": [
  {
   "cell_type": "markdown",
   "metadata": {
    "pycharm": {
     "name": "#%% md\n"
    }
   },
   "source": [
    "# SpacePrez IderDown client\n",
    "\n",
    "This Notebook is a client software/service for [SpacePrez](https://github.com/surroundaustralia/Prez/) APIs. It emulates the behaviour of the [Location Index (LocI)](http://ga.gov.au/locationindex) project's [IderDown](http://loci.cat/iderDown.html) client which was custom software that was able to \"discovery and download of related Loc-I identifiers for selected spatial features\".\n"
   ]
  },
  {
   "cell_type": "markdown",
   "metadata": {
    "pycharm": {
     "name": "#%% md\n"
    }
   },
   "source": [
    "### 1. Install dependencies"
   ]
  },
  {
   "cell_type": "code",
   "execution_count": 2,
   "metadata": {
    "pycharm": {
     "name": "#%%\n"
    }
   },
   "outputs": [],
   "source": [
    "import httpx\n",
    "import tabulate"
   ]
  },
  {
   "cell_type": "markdown",
   "metadata": {
    "pycharm": {
     "name": "#%% md\n"
    }
   },
   "source": [
    "### 2. List datasets\n",
    "\n",
    "Using the SPARQL endpoint for the test \"SURROUND Prez\" server"
   ]
  },
  {
   "cell_type": "code",
   "execution_count": 3,
   "metadata": {
    "pycharm": {
     "name": "#%%\n"
    }
   },
   "outputs": [
    {
     "data": {
      "text/html": [
       "<table>\n",
       "<tbody>\n",
       "<tr><td>https://linked.data.gov.au/dataset/power-infrastructure</td><td>Electrical Infrastructure Dataset        </td></tr>\n",
       "<tr><td>https://linked.data.gov.au/dataset/floods              </td><td>Floods Dataset                           </td></tr>\n",
       "<tr><td>https://linked.data.gov.au/dataset/placenames          </td><td>Placenames Dataset                       </td></tr>\n",
       "<tr><td>https://linked.data.gov.au/dataset/facilities          </td><td>Facilities Dataset                       </td></tr>\n",
       "<tr><td>https://linked.data.gov.au/dataset/geofabric           </td><td>Australian Hydrological Geospatial Fabric</td></tr>\n",
       "</tbody>\n",
       "</table>"
      ],
      "text/plain": [
       "'<table>\\n<tbody>\\n<tr><td>https://linked.data.gov.au/dataset/power-infrastructure</td><td>Electrical Infrastructure Dataset        </td></tr>\\n<tr><td>https://linked.data.gov.au/dataset/floods              </td><td>Floods Dataset                           </td></tr>\\n<tr><td>https://linked.data.gov.au/dataset/placenames          </td><td>Placenames Dataset                       </td></tr>\\n<tr><td>https://linked.data.gov.au/dataset/facilities          </td><td>Facilities Dataset                       </td></tr>\\n<tr><td>https://linked.data.gov.au/dataset/geofabric           </td><td>Australian Hydrological Geospatial Fabric</td></tr>\\n</tbody>\\n</table>'"
      ]
     },
     "execution_count": 3,
     "metadata": {},
     "output_type": "execute_result"
    }
   ],
   "source": [
    "q = \"\"\"\n",
    "    PREFIX dcterms: <http://purl.org/dc/terms/>\n",
    "    PREFIX dcat: <http://www.w3.org/ns/dcat#>\n",
    "\n",
    "    SELECT ?d ?t\n",
    "    WHERE {\n",
    "      ?d a dcat:Dataset ;\n",
    "        dcterms:title ?t .\n",
    "    }\n",
    "    \"\"\"\n",
    "\n",
    "r = httpx.get(\n",
    "    \"http://da-ap-loadb-1jijqkyl7yx8d-92a580b6be60c7cd.elb.ap-southeast-2.amazonaws.com:8000/sparql\",\n",
    "    params={\"query\": q},\n",
    "    headers={\"Accept\": \"application/sparql-results+json\"}\n",
    ")\n",
    "if r.status_code == 200:\n",
    "    data = r.json()[\"results\"][\"bindings\"]\n",
    "    tbl = []\n",
    "    for d in data:\n",
    "        tbl.append([d[\"d\"][\"value\"], d[\"t\"][\"value\"]])\n",
    "\n",
    "table = tabulate.tabulate(tbl, tablefmt='html')\n",
    "table"
   ]
  },
  {
   "cell_type": "code",
   "execution_count": null,
   "metadata": {},
   "outputs": [],
   "source": []
  }
 ],
 "metadata": {
  "kernelspec": {
   "display_name": "Python 3 (ipykernel)",
   "language": "python",
   "name": "python3"
  },
  "language_info": {
   "codemirror_mode": {
    "name": "ipython",
    "version": 3
   },
   "file_extension": ".py",
   "mimetype": "text/x-python",
   "name": "python",
   "nbconvert_exporter": "python",
   "pygments_lexer": "ipython3",
   "version": "3.9.10"
  }
 },
 "nbformat": 4,
 "nbformat_minor": 1
}