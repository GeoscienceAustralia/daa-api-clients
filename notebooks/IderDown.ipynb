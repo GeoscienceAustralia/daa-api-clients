{
 "cells": [
  {
   "cell_type": "markdown",
   "metadata": {
    "pycharm": {
     "name": "#%% md\n"
    }
   },
   "source": [
    "# Digital Atlas of Australia API IderDown client\n",
    "\n",
    "This Notebook is a software/service client [SpacePrez](https://github.com/surroundaustralia/Prez/) APIs deployed as part of the [digital Atlas of Australia](https://www.ga.gov.au/scientific-topics/national-location-information/digital-atlas-of-australia)'s data layers. \n",
    "\n",
    "This client emulates the behaviour of the [Location Index (LocI)](http://ga.gov.au/locationindex) project's [IderDown](http://loci.cat/iderDown.html) client which was custom software that was able to \"discovery and download related Loc-I identifiers for selected spatial features\".\n"
   ]
  },
  {
   "cell_type": "markdown",
   "metadata": {
    "pycharm": {
     "name": "#%% md\n"
    }
   },
   "source": [
    "### 1. Install dependencies and register useful functions"
   ]
  },
  {
   "cell_type": "code",
   "execution_count": null,
   "metadata": {
    "pycharm": {
     "name": "#%%\n"
    }
   },
   "outputs": [],
   "source": [
    "import httpx\n",
    "import tabulate\n",
    "\n",
    "\n",
    "def sparql_query(endpoint, q):\n",
    "    r = httpx.get(\n",
    "        endpoint.strip(\"/\") + \"/sparql\",\n",
    "        params={\"query\": q},\n",
    "        headers={\"Accept\": \"application/sparql-results+json\"}\n",
    "    )\n",
    "    if r.status_code == 200:\n",
    "        return [True, r.json()[\"results\"][\"bindings\"]]\n",
    "    else:\n",
    "        return [False, r.status_code, r.text]\n",
    "    \n",
    "    \n",
    "def tableize(json):\n",
    "    tbl = []\n",
    "    for d in json: \n",
    "        tbl.append([v[\"value\"] for k, v in d.items()])\n",
    "\n",
    "    table = tabulate.tabulate(tbl, tablefmt=\"html\")\n",
    "    return table\n",
    "\n",
    "\n",
    "def get_contained(endpoint, container_iri, feature_collection):\n",
    "    q = f\"\"\"        \n",
    "        PREFIX geo: <http://www.opengis.net/ont/geosparql#>\n",
    "        PREFIX geof: <http://www.opengis.net/def/function/geosparql/>\n",
    "        PREFIX rdfs: <http://www.w3.org/2000/01/rdf-schema#>\n",
    "\n",
    "        SELECT ?f\n",
    "        WHERE {{\n",
    "          <{container_iri}> geo:hasGeometry/geo:asWKT ?container .\n",
    "\n",
    "          <{feature_collection}> rdfs:member ?f .\n",
    "          ?f geo:hasGeometry/geo:asWKT ?wkt .\n",
    "\n",
    "          # FILTER (geof:sfWithin(?container, ?wkt))\n",
    "        }}\n",
    "        LIMIT 5    \n",
    "        \"\"\"\n",
    "    \n",
    "    r = httpx.get(\n",
    "        endpoint.strip(\"/\") + \"/sparql\",\n",
    "        params={\"query\": q},\n",
    "        headers={\"Accept\": \"application/sparql-results+json\"},\n",
    "        timeout=30\n",
    "    )\n",
    "    if r.status_code == 200:\n",
    "        return [True, r.json()[\"results\"][\"bindings\"]]\n",
    "    else:\n",
    "        return [False, r.status_code, r.text]"
   ]
  },
  {
   "cell_type": "code",
   "execution_count": null,
   "metadata": {},
   "outputs": [],
   "source": [
    "get_contained(\n",
    "    \"https://asgs.linked.fsdf.org.au\",\n",
    "    \"https://linked.data.gov.au/dataset/asgsed3/SA4/102\", \n",
    "    \"https://linked.data.gov.au/dataset/asgsed3/SA3\"\n",
    ")"
   ]
  },
  {
   "cell_type": "markdown",
   "metadata": {},
   "source": [
    "## 2. Provide API locations"
   ]
  },
  {
   "cell_type": "code",
   "execution_count": null,
   "metadata": {},
   "outputs": [],
   "source": [
    "endpoints = [\n",
    "    \"http://v2random.fsdf.org.au\",\n",
    "    \"http://v2random.fsdf.org.au:8030\"\n",
    "]"
   ]
  },
  {
   "cell_type": "markdown",
   "metadata": {},
   "source": [
    "## 2. Get all Feature Collections from all given endpoints   "
   ]
  },
  {
   "cell_type": "code",
   "execution_count": null,
   "metadata": {},
   "outputs": [],
   "source": [
    "q = \"\"\"\n",
    "    PREFIX geo: <http://www.opengis.net/ont/geosparql#>\n",
    "    PREFIX dcterms: <http://purl.org/dc/terms/>\n",
    "\n",
    "    SELECT *\n",
    "    WHERE {\n",
    "      ?fc a geo:FeatureCollection ;\n",
    "          dcterms:title ?t .\n",
    "    }\n",
    "    ORDER BY ?t\n",
    "    \"\"\"\n",
    "\n",
    "fcs = []\n",
    "for endpoint in endpoints:\n",
    "    qr = sparql_query(endpoint, q)\n",
    "    if qr[0]:\n",
    "        # add in endpoint\n",
    "        for row in qr[1]:\n",
    "            extended_row = {**{\"endpoint\": {\"value\": endpoint}}, **row}\n",
    "            fcs.append(extended_row)\n",
    "tableize(fcs)"
   ]
  },
  {
   "cell_type": "markdown",
   "metadata": {},
   "source": [
    "## 3. Get first 10 Features from a selected Feature Collection\n",
    "\n",
    "- select an endpoint and a Feature Collection from the table generated above"
   ]
  },
  {
   "cell_type": "code",
   "execution_count": null,
   "metadata": {},
   "outputs": [],
   "source": [
    "endpoint = \"http://v2random.fsdf.org.au\"\n",
    "fc = \"https://linked.data.gov.au/dataset/facilities/emergency-management\"\n",
    "q = f\"\"\"\n",
    "    PREFIX dcterms: <http://purl.org/dc/terms/>\n",
    "    PREFIX rdfs: <http://www.w3.org/2000/01/rdf-schema#>\n",
    "\n",
    "    SELECT *\n",
    "    WHERE {{\n",
    "      <{fc}> rdfs:member ?f .\n",
    "      OPTIONAL {{?f dcterms:title|rdfs:label ?t}}\n",
    "    }}\n",
    "    ORDER BY ?t\n",
    "    LIMIT 10\n",
    "    \"\"\"\n",
    "qr = sparql_query(endpoint, q)\n",
    "if qr[0]:\n",
    "    display(tableize(qr[1]))"
   ]
  },
  {
   "cell_type": "code",
   "execution_count": null,
   "metadata": {},
   "outputs": [],
   "source": []
  }
 ],
 "metadata": {
  "kernelspec": {
   "display_name": "Python 3 (ipykernel)",
   "language": "python",
   "name": "python3"
  },
  "language_info": {
   "codemirror_mode": {
    "name": "ipython",
    "version": 3
   },
   "file_extension": ".py",
   "mimetype": "text/x-python",
   "name": "python",
   "nbconvert_exporter": "python",
   "pygments_lexer": "ipython3",
   "version": "3.9.10"
  }
 },
 "nbformat": 4,
 "nbformat_minor": 1
}