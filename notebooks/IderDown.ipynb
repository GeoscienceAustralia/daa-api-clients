{
 "cells": [
  {
   "cell_type": "markdown",
   "metadata": {
    "pycharm": {
     "name": "#%% md\n"
    }
   },
   "source": [
    "# Digital Atlas of Australia API IderDown client\n",
    "\n",
    "This Notebook is a software/service client [SpacePrez](https://github.com/surroundaustralia/Prez/) APIs deployed as part of the [digital Atlas of Australia](https://www.ga.gov.au/scientific-topics/national-location-information/digital-atlas-of-australia)'s data layers. \n",
    "\n",
    "This client emulates the behaviour of the [Location Index (LocI)](http://ga.gov.au/locationindex) project's [IderDown](http://loci.cat/iderDown.html) client which was custom software that was able to \"discovery and download related Loc-I identifiers for selected spatial features\".\n"
   ]
  },
  {
   "cell_type": "markdown",
   "metadata": {
    "pycharm": {
     "name": "#%% md\n"
    }
   },
   "source": [
    "### 1. Install dependencies and register useful functions"
   ]
  },
  {
   "cell_type": "code",
   "execution_count": 37,
   "metadata": {
    "pycharm": {
     "name": "#%%\n"
    }
   },
   "outputs": [],
   "source": [
    "import httpx\n",
    "import tabulate\n",
    "\n",
    "\n",
    "def sparql_query(endpoint, q):\n",
    "    r = httpx.get(\n",
    "        endpoint.strip(\"/\") + \"/sparql\",\n",
    "        params={\"query\": q},\n",
    "        headers={\"Accept\": \"application/sparql-results+json\"}\n",
    "    )\n",
    "    if r.status_code == 200:\n",
    "        return [True, r.json()[\"results\"][\"bindings\"]]\n",
    "    else:\n",
    "        return [False, r.status_code, r.text]\n",
    "    \n",
    "    \n",
    "def tableize(json):\n",
    "    tbl = []\n",
    "    for d in json: \n",
    "        tbl.append([v[\"value\"] for k, v in d.items()])\n",
    "\n",
    "    table = tabulate.tabulate(tbl, tablefmt=\"html\")\n",
    "    return table\n",
    "\n",
    "\n",
    "def get_contained(endpoint, container_iri, feature_collection):\n",
    "    q = f\"\"\"        \n",
    "        PREFIX geo: <http://www.opengis.net/ont/geosparql#>\n",
    "        PREFIX geof: <http://www.opengis.net/def/function/geosparql/>\n",
    "        PREFIX rdfs: <http://www.w3.org/2000/01/rdf-schema#>\n",
    "\n",
    "        SELECT ?f\n",
    "        WHERE {{\n",
    "          <{container_iri}> geo:hasGeometry/geo:asWKT ?container .\n",
    "\n",
    "          <{feature_collection}> rdfs:member ?f .\n",
    "          ?f geo:hasGeometry/geo:asWKT ?wkt .\n",
    "\n",
    "          FILTER (geof:sfWithin(?wkt, ?container))\n",
    "        }}\n",
    "        LIMIT 5    \n",
    "        \"\"\"\n",
    "    \n",
    "    r = httpx.get(\n",
    "        endpoint.strip(\"/\") + \"/sparql\",\n",
    "        params={\"query\": q},\n",
    "        headers={\"Accept\": \"application/sparql-results+json\"},\n",
    "        timeout=60\n",
    "    )\n",
    "    if r.status_code == 200:\n",
    "        return [True, r.json()[\"results\"][\"bindings\"]]\n",
    "    else:\n",
    "        return [False, r.status_code, r.text]"
   ]
  },
  {
   "cell_type": "markdown",
   "metadata": {},
   "source": [
    "## 1. Basic IderDown\n",
    "For a given Feature, get the IDs of all contained Features of another class.\n",
    "\n",
    "E.g., for the SA3 10201, get all the SA2s"
   ]
  },
  {
   "cell_type": "code",
   "execution_count": 39,
   "metadata": {},
   "outputs": [
    {
     "data": {
      "text/html": [
       "<table>\n",
       "<tbody>\n",
       "<tr><td>https://linked.data.gov.au/dataset/asgsed3/SA2/102021044</td></tr>\n",
       "<tr><td>https://linked.data.gov.au/dataset/asgsed3/SA2/102021045</td></tr>\n",
       "<tr><td>https://linked.data.gov.au/dataset/asgsed3/SA2/102021046</td></tr>\n",
       "<tr><td>https://linked.data.gov.au/dataset/asgsed3/SA2/102021047</td></tr>\n",
       "<tr><td>https://linked.data.gov.au/dataset/asgsed3/SA2/102021048</td></tr>\n",
       "</tbody>\n",
       "</table>"
      ],
      "text/plain": [
       "'<table>\\n<tbody>\\n<tr><td>https://linked.data.gov.au/dataset/asgsed3/SA2/102021044</td></tr>\\n<tr><td>https://linked.data.gov.au/dataset/asgsed3/SA2/102021045</td></tr>\\n<tr><td>https://linked.data.gov.au/dataset/asgsed3/SA2/102021046</td></tr>\\n<tr><td>https://linked.data.gov.au/dataset/asgsed3/SA2/102021047</td></tr>\\n<tr><td>https://linked.data.gov.au/dataset/asgsed3/SA2/102021048</td></tr>\\n</tbody>\\n</table>'"
      ]
     },
     "metadata": {},
     "output_type": "display_data"
    }
   ],
   "source": [
    "c = get_contained(\n",
    "    \"https://asgs.linked.fsdf.org.au\",\n",
    "    \"https://linked.data.gov.au/dataset/asgsed3/SA3/10202\", \n",
    "    \"https://linked.data.gov.au/dataset/asgsed3/SA2\"\n",
    ")\n",
    "if c[0]:\n",
    "    display(tableize(c[1]))"
   ]
  },
  {
   "cell_type": "markdown",
   "metadata": {},
   "source": [
    "...or the SA1s"
   ]
  },
  {
   "cell_type": "code",
   "execution_count": null,
   "metadata": {},
   "outputs": [],
   "source": [
    "c = get_contained(\n",
    "    \"https://asgs.linked.fsdf.org.au\",\n",
    "    \"https://linked.data.gov.au/dataset/asgsed3/SA3/10201\", \n",
    "    \"https://linked.data.gov.au/dataset/asgsed3/SA1\"\n",
    ")\n",
    "if c[0]:\n",
    "    display(tableize(c[1]))"
   ]
  },
  {
   "cell_type": "markdown",
   "metadata": {},
   "source": [
    "# Other interesting functions \n",
    "\n",
    "## 2. Provide API locations"
   ]
  },
  {
   "cell_type": "code",
   "execution_count": 40,
   "metadata": {},
   "outputs": [],
   "source": [
    "endpoints = [\n",
    "    \"https://asgs.linked.fsdf.org.au\"\n",
    "]"
   ]
  },
  {
   "cell_type": "markdown",
   "metadata": {},
   "source": [
    "## 2. Get all Feature Collections from all given endpoints   "
   ]
  },
  {
   "cell_type": "code",
   "execution_count": 41,
   "metadata": {},
   "outputs": [
    {
     "data": {
      "text/html": [
       "<table>\n",
       "<tbody>\n",
       "<tr><td>https://asgs.linked.fsdf.org.au</td><td>https://linked.data.gov.au/dataset/asgsed3/AUS  </td><td>Australia Feature Collection                </td></tr>\n",
       "<tr><td>https://asgs.linked.fsdf.org.au</td><td>https://linked.data.gov.au/dataset/asgsed3/GCCSA</td><td>Greater Capital City Statistical Areas      </td></tr>\n",
       "<tr><td>https://asgs.linked.fsdf.org.au</td><td>https://linked.data.gov.au/dataset/asgsed3/MB   </td><td>Mesh Block Feature Collection               </td></tr>\n",
       "<tr><td>https://asgs.linked.fsdf.org.au</td><td>https://linked.data.gov.au/dataset/asgsed3/STE  </td><td>States &amp; Territories Feature Collection     </td></tr>\n",
       "<tr><td>https://asgs.linked.fsdf.org.au</td><td>https://linked.data.gov.au/dataset/asgsed3/SA1  </td><td>Statistical Areas Level 1 Feature Collection</td></tr>\n",
       "<tr><td>https://asgs.linked.fsdf.org.au</td><td>https://linked.data.gov.au/dataset/asgsed3/SA2  </td><td>Statistical Areas Level 2 Feature Collection</td></tr>\n",
       "<tr><td>https://asgs.linked.fsdf.org.au</td><td>https://linked.data.gov.au/dataset/asgsed3/SA3  </td><td>Statistical Areas Level 3 Feature Collection</td></tr>\n",
       "<tr><td>https://asgs.linked.fsdf.org.au</td><td>https://linked.data.gov.au/dataset/asgsed3/SA4  </td><td>Statistical Areas Level 4 Feature Collection</td></tr>\n",
       "</tbody>\n",
       "</table>"
      ],
      "text/plain": [
       "'<table>\\n<tbody>\\n<tr><td>https://asgs.linked.fsdf.org.au</td><td>https://linked.data.gov.au/dataset/asgsed3/AUS  </td><td>Australia Feature Collection                </td></tr>\\n<tr><td>https://asgs.linked.fsdf.org.au</td><td>https://linked.data.gov.au/dataset/asgsed3/GCCSA</td><td>Greater Capital City Statistical Areas      </td></tr>\\n<tr><td>https://asgs.linked.fsdf.org.au</td><td>https://linked.data.gov.au/dataset/asgsed3/MB   </td><td>Mesh Block Feature Collection               </td></tr>\\n<tr><td>https://asgs.linked.fsdf.org.au</td><td>https://linked.data.gov.au/dataset/asgsed3/STE  </td><td>States &amp; Territories Feature Collection     </td></tr>\\n<tr><td>https://asgs.linked.fsdf.org.au</td><td>https://linked.data.gov.au/dataset/asgsed3/SA1  </td><td>Statistical Areas Level 1 Feature Collection</td></tr>\\n<tr><td>https://asgs.linked.fsdf.org.au</td><td>https://linked.data.gov.au/dataset/asgsed3/SA2  </td><td>Statistical Areas Level 2 Feature Collection</td></tr>\\n<tr><td>https://asgs.linked.fsdf.org.au</td><td>https://linked.data.gov.au/dataset/asgsed3/SA3  </td><td>Statistical Areas Level 3 Feature Collection</td></tr>\\n<tr><td>https://asgs.linked.fsdf.org.au</td><td>https://linked.data.gov.au/dataset/asgsed3/SA4  </td><td>Statistical Areas Level 4 Feature Collection</td></tr>\\n</tbody>\\n</table>'"
      ]
     },
     "execution_count": 41,
     "metadata": {},
     "output_type": "execute_result"
    }
   ],
   "source": [
    "q = \"\"\"\n",
    "    PREFIX geo: <http://www.opengis.net/ont/geosparql#>\n",
    "    PREFIX dcterms: <http://purl.org/dc/terms/>\n",
    "\n",
    "    SELECT *\n",
    "    WHERE {\n",
    "      ?fc a geo:FeatureCollection ;\n",
    "          dcterms:title ?t .\n",
    "    }\n",
    "    ORDER BY ?t\n",
    "    \"\"\"\n",
    "\n",
    "fcs = []\n",
    "for endpoint in endpoints:\n",
    "    qr = sparql_query(endpoint, q)\n",
    "    if qr[0]:\n",
    "        # add in endpoint\n",
    "        for row in qr[1]:\n",
    "            extended_row = {**{\"endpoint\": {\"value\": endpoint}}, **row}\n",
    "            fcs.append(extended_row)\n",
    "tableize(fcs)"
   ]
  },
  {
   "cell_type": "markdown",
   "metadata": {},
   "source": [
    "## 3. Get first 10 Features from a selected Feature Collection\n",
    "\n",
    "- select an endpoint and a Feature Collection from the table generated above"
   ]
  },
  {
   "cell_type": "code",
   "execution_count": 42,
   "metadata": {},
   "outputs": [
    {
     "data": {
      "text/html": [
       "<table>\n",
       "<tbody>\n",
       "<tr><td>https://linked.data.gov.au/dataset/asgsed3/SA3/40101</td><td>Adelaide City                       </td></tr>\n",
       "<tr><td>https://linked.data.gov.au/dataset/asgsed3/SA3/40102</td><td>Adelaide Hills                      </td></tr>\n",
       "<tr><td>https://linked.data.gov.au/dataset/asgsed3/SA3/50901</td><td>Albany                              </td></tr>\n",
       "<tr><td>https://linked.data.gov.au/dataset/asgsed3/SA3/10901</td><td>Albury                              </td></tr>\n",
       "<tr><td>https://linked.data.gov.au/dataset/asgsed3/SA3/70201</td><td>Alice Springs                       </td></tr>\n",
       "<tr><td>https://linked.data.gov.au/dataset/asgsed3/SA3/50601</td><td>Armadale                            </td></tr>\n",
       "<tr><td>https://linked.data.gov.au/dataset/asgsed3/SA3/11001</td><td>Armidale                            </td></tr>\n",
       "<tr><td>https://linked.data.gov.au/dataset/asgsed3/SA3/12501</td><td>Auburn                              </td></tr>\n",
       "<tr><td>https://linked.data.gov.au/dataset/asgsed3/SA3/50101</td><td>Augusta - Margaret River - Busselton</td></tr>\n",
       "<tr><td>https://linked.data.gov.au/dataset/asgsed3/SA3/30201</td><td>Bald Hills - Everton Park           </td></tr>\n",
       "</tbody>\n",
       "</table>"
      ],
      "text/plain": [
       "'<table>\\n<tbody>\\n<tr><td>https://linked.data.gov.au/dataset/asgsed3/SA3/40101</td><td>Adelaide City                       </td></tr>\\n<tr><td>https://linked.data.gov.au/dataset/asgsed3/SA3/40102</td><td>Adelaide Hills                      </td></tr>\\n<tr><td>https://linked.data.gov.au/dataset/asgsed3/SA3/50901</td><td>Albany                              </td></tr>\\n<tr><td>https://linked.data.gov.au/dataset/asgsed3/SA3/10901</td><td>Albury                              </td></tr>\\n<tr><td>https://linked.data.gov.au/dataset/asgsed3/SA3/70201</td><td>Alice Springs                       </td></tr>\\n<tr><td>https://linked.data.gov.au/dataset/asgsed3/SA3/50601</td><td>Armadale                            </td></tr>\\n<tr><td>https://linked.data.gov.au/dataset/asgsed3/SA3/11001</td><td>Armidale                            </td></tr>\\n<tr><td>https://linked.data.gov.au/dataset/asgsed3/SA3/12501</td><td>Auburn                              </td></tr>\\n<tr><td>https://linked.data.gov.au/dataset/asgsed3/SA3/50101</td><td>Augusta - Margaret River - Busselton</td></tr>\\n<tr><td>https://linked.data.gov.au/dataset/asgsed3/SA3/30201</td><td>Bald Hills - Everton Park           </td></tr>\\n</tbody>\\n</table>'"
      ]
     },
     "metadata": {},
     "output_type": "display_data"
    }
   ],
   "source": [
    "endpoint = \"https://asgs.linked.fsdf.org.au\"\n",
    "fc = \"https://linked.data.gov.au/dataset/asgsed3/SA3\"\n",
    "q = f\"\"\"\n",
    "    PREFIX dcterms: <http://purl.org/dc/terms/>\n",
    "    PREFIX rdfs: <http://www.w3.org/2000/01/rdf-schema#>\n",
    "\n",
    "    SELECT *\n",
    "    WHERE {{\n",
    "      <{fc}> rdfs:member ?f .\n",
    "      OPTIONAL {{?f dcterms:title|rdfs:label ?t}}\n",
    "    }}\n",
    "    ORDER BY ?t\n",
    "    LIMIT 10\n",
    "    \"\"\"\n",
    "qr = sparql_query(endpoint, q)\n",
    "if qr[0]:\n",
    "    display(tableize(qr[1]))"
   ]
  },
  {
   "cell_type": "code",
   "execution_count": null,
   "metadata": {},
   "outputs": [],
   "source": []
  }
 ],
 "metadata": {
  "kernelspec": {
   "display_name": "Python 3 (ipykernel)",
   "language": "python",
   "name": "python3"
  },
  "language_info": {
   "codemirror_mode": {
    "name": "ipython",
    "version": 3
   },
   "file_extension": ".py",
   "mimetype": "text/x-python",
   "name": "python",
   "nbconvert_exporter": "python",
   "pygments_lexer": "ipython3",
   "version": "3.9.10"
  }
 },
 "nbformat": 4,
 "nbformat_minor": 1
}